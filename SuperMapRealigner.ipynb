{
 "cells": [
  {
   "cell_type": "markdown",
   "id": "7dfdbd21",
   "metadata": {},
   "source": [
    "# SuperMapRealigner - Demo\n",
    "## Import"
   ]
  },
  {
   "cell_type": "code",
   "execution_count": 1,
   "id": "bcef026b-ef21-432a-ada0-0037c9184494",
   "metadata": {},
   "outputs": [],
   "source": [
    "import os, subprocess, glob, tqdm, json\n",
    "import numpy as np\n",
    "import cv2\n",
    "\n",
    "from utils.segment import *\n",
    "from utils.match import *"
   ]
  },
  {
   "cell_type": "markdown",
   "id": "e0fb6bcb",
   "metadata": {},
   "source": [
    "## Global variables"
   ]
  },
  {
   "cell_type": "code",
   "execution_count": 2,
   "id": "e455f511",
   "metadata": {},
   "outputs": [],
   "source": [
    "SEG_MAPS_FOLDER = ('data', 'demo', 'segmented')\n",
    "CONTROL_PTS_FOLDER = ('data', 'demo', 'control_points')\n",
    "PREPROC_MAPS_FOLDER = ('workshop', 'skeletonized')\n",
    "SG_OUTPUT_FOLDER = ('workshop', 'sg_output')\n",
    "REALIGN_OUTPUT_FOLDER = ('output', 'demo')\n",
    "ANCHOR_FOLDER = ('data', 'demo')\n",
    "\n",
    "PARAMS = {\n",
    "    'corpus': {\n",
    "        'city_name': 'Paris',\n",
    "    },\n",
    "    'anchor': {\n",
    "        'admin_level': 8, # cf. https://wiki.openstreetmap.org/wiki/Key:admin_level\n",
    "        'streetwidth_coef': 4, # affect the width of the roads in the reference anchor map\n",
    "        'image_maxsize': 15000,\n",
    "    },\n",
    "    'realign': {\n",
    "        'resize': 1400,\n",
    "        'nms_radius': 5,\n",
    "        'max_keypoints': -1,\n",
    "        'ransac_radius': 50,\n",
    "    },\n",
    "}\n",
    "\n",
    "# Create necessary directories\n",
    "os.makedirs(os.path.join(*PREPROC_MAPS_FOLDER), exist_ok=True)\n",
    "os.makedirs(os.path.join(*REALIGN_OUTPUT_FOLDER), exist_ok=True)"
   ]
  },
  {
   "cell_type": "markdown",
   "id": "fc23869a",
   "metadata": {},
   "source": [
    "## Main\n",
    "### Create reference anchor (if necessary)\n",
    "The anchor map is created by querying OpenStreetMap via the Overpass API. It is based on the city_name you provide in the PARAMS. PS: You might want to tweak the request to the Overpass API if you are trying to realign maps covering larger areas."
   ]
  },
  {
   "cell_type": "code",
   "execution_count": 3,
   "id": "167347e1",
   "metadata": {},
   "outputs": [
    {
     "name": "stderr",
     "output_type": "stream",
     "text": [
      "C:\\Users\\Rémi Petitpierre\\Desktop\\SuperMapRealigner\\utils\\match.py:57: SettingWithCopyWarning: \n",
      "A value is trying to be set on a copy of a slice from a DataFrame\n",
      "\n",
      "See the caveats in the documentation: https://pandas.pydata.org/pandas-docs/stable/user_guide/indexing.html#returning-a-view-versus-a-copy\n",
      "  df['width'].loc[df['highway_type'] == type_] = 1 + highway_types[type_]\n"
     ]
    }
   ],
   "source": [
    "createAnchorMap(PARAMS, ANCHOR_FOLDER)"
   ]
  },
  {
   "cell_type": "markdown",
   "id": "e28ac404",
   "metadata": {},
   "source": [
    "### Preprocess segmented maps"
   ]
  },
  {
   "cell_type": "code",
   "execution_count": 10,
   "id": "dcdd1dbf",
   "metadata": {},
   "outputs": [
    {
     "name": "stderr",
     "output_type": "stream",
     "text": [
      "100%|██████████████████████████████████████████████████████████████████████████████████| 49/49 [00:33<00:00,  1.46it/s]\n"
     ]
    }
   ],
   "source": [
    "# Preprocess the reference anchor map\n",
    "anchor_name, anchor_scale, anchor_shape = preprocess_segmented_maps(os.path.join(*ANCHOR_FOLDER, \"anchor.png\"),\n",
    "                                                                    PREPROC_MAPS_FOLDER, PARAMS['realign']['resize'])\n",
    "anchor_scale =  max(anchor_shape[:2]) / PARAMS['realign']['resize']\n",
    "\n",
    "# Preprocess and store scale factors for target segmented maps\n",
    "scale_factor, orig_shape = dict(), dict()\n",
    "input_pairs = ''\n",
    "segmented_maps_paths = sorted(glob.glob(os.path.join(*SEG_MAPS_FOLDER, '*.png')))\n",
    "for image_path in tqdm.tqdm(segmented_maps_paths):\n",
    "    \n",
    "    image_name, image_scale, image_shape = preprocess_segmented_maps(image_path, PREPROC_MAPS_FOLDER,\n",
    "                                                                     PARAMS['realign']['resize'])\n",
    "    \n",
    "    scale_factor[image_name.split('.')[0]] = image_scale\n",
    "    orig_shape[image_name.split('.')[0]] = image_shape[:2]\n",
    "    \n",
    "    # Add target-reference pair\n",
    "    input_pairs += f\"{image_name} {anchor_name}\\n\"\n",
    "    \n",
    "# Save input pairs (target-reference) to a file\n",
    "with open(os.path.join(*PREPROC_MAPS_FOLDER, 'input_pairs.txt'), 'w+') as f:\n",
    "    f.write(input_pairs[:-1])"
   ]
  },
  {
   "cell_type": "markdown",
   "id": "c228f722",
   "metadata": {},
   "source": [
    "### Compute and pre-match Local Features"
   ]
  },
  {
   "cell_type": "code",
   "execution_count": 11,
   "id": "4bb599b3",
   "metadata": {},
   "outputs": [
    {
     "data": {
      "text/plain": [
       "0"
      ]
     },
     "execution_count": 11,
     "metadata": {},
     "output_type": "execute_result"
    }
   ],
   "source": [
    "cmd = f\"python external/SuperGluePretrainedNetwork/match_pairs.py --superglue outdoor \\\n",
    "--resize {PARAMS['realign']['resize']} \\\n",
    "--max_keypoints {PARAMS['realign']['max_keypoints']} \\\n",
    "--nms_radius {PARAMS['realign']['nms_radius']} \\\n",
    "--input_dir {os.path.join(*PREPROC_MAPS_FOLDER)} \\\n",
    "--input_pairs {os.path.join(*PREPROC_MAPS_FOLDER, 'input_pairs.txt')} \\\n",
    "--output_dir {os.path.join(*SG_OUTPUT_FOLDER)}\"\n",
    "\n",
    "# Apply pretrained SuperGlue model on input pairs\n",
    "subprocess.call(cmd, shell=True)"
   ]
  },
  {
   "cell_type": "markdown",
   "id": "4bc0cf6d",
   "metadata": {},
   "source": [
    "### Realigner\n",
    "#### Demo on validation data"
   ]
  },
  {
   "cell_type": "code",
   "execution_count": 12,
   "id": "f91236a1",
   "metadata": {},
   "outputs": [
    {
     "name": "stderr",
     "output_type": "stream",
     "text": [
      "100%|██████████████████████████████████████████████████████████████████████████████████| 49/49 [01:42<00:00,  2.08s/it]"
     ]
    },
    {
     "name": "stdout",
     "output_type": "stream",
     "text": [
      "Percentage correctly realigned: 75.51 %.\n",
      "Median residual error: 16.69 px.\n"
     ]
    },
    {
     "name": "stderr",
     "output_type": "stream",
     "text": [
      "\n"
     ]
    }
   ],
   "source": [
    "output = realign(SG_OUTPUT_FOLDER, ANCHOR_FOLDER, anchor_name, anchor_scale, \n",
    "                 scale_factor, orig_shape, PARAMS['realign']['ransac_radius'],\n",
    "                 with_validation=True, control_pts_folder=CONTROL_PTS_FOLDER)\n",
    "\n",
    "# Compute and display success rate and median residual error\n",
    "total, residuals = 0, []\n",
    "for o in output:\n",
    "    if o['success']:\n",
    "        total += 1\n",
    "        residuals += o['residuals']\n",
    "\n",
    "print(f'Percentage correctly realigned: {\"{:.2f}\".format(100*total/len(output))} %.')\n",
    "print(f'Median residual error: {\"{:.2f}\".format(np.median(residuals))} px.')"
   ]
  },
  {
   "cell_type": "markdown",
   "id": "8891509c",
   "metadata": {},
   "source": [
    "#### Inference on any segmented data"
   ]
  },
  {
   "cell_type": "code",
   "execution_count": 16,
   "id": "1dc87b5c",
   "metadata": {},
   "outputs": [
    {
     "name": "stderr",
     "output_type": "stream",
     "text": [
      "100%|██████████████████████████████████████████████████████████████████████████████████| 49/49 [01:42<00:00,  2.08s/it]\n"
     ]
    }
   ],
   "source": [
    "output = realign(SG_OUTPUT_FOLDER, ANCHOR_FOLDER, anchor_name, anchor_scale, \n",
    "                 scale_factor, orig_shape, PARAMS['realign']['ransac_radius'])"
   ]
  },
  {
   "cell_type": "markdown",
   "id": "d982529d",
   "metadata": {},
   "source": [
    "### Export"
   ]
  },
  {
   "cell_type": "code",
   "execution_count": 15,
   "id": "513be124",
   "metadata": {},
   "outputs": [],
   "source": [
    "with open(os.path.join(*REALIGN_OUTPUT_FOLDER, \"output.json\"), \"w\") as export_file:\n",
    "    json.dump(output, export_file)"
   ]
  },
  {
   "cell_type": "code",
   "execution_count": null,
   "id": "60f0af28",
   "metadata": {},
   "outputs": [],
   "source": []
  },
  {
   "cell_type": "code",
   "execution_count": null,
   "id": "4a5c0abd",
   "metadata": {},
   "outputs": [],
   "source": []
  }
 ],
 "metadata": {
  "kernelspec": {
   "display_name": "Python 3",
   "language": "python",
   "name": "python3"
  },
  "language_info": {
   "codemirror_mode": {
    "name": "ipython",
    "version": 3
   },
   "file_extension": ".py",
   "mimetype": "text/x-python",
   "name": "python",
   "nbconvert_exporter": "python",
   "pygments_lexer": "ipython3",
   "version": "3.8.3"
  }
 },
 "nbformat": 4,
 "nbformat_minor": 5
}
